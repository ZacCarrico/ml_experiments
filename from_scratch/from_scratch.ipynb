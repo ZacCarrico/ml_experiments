{
 "cells": [
  {
   "cell_type": "markdown",
   "metadata": {},
   "source": [
    "The purpose of this notebook is to understand the basics of neural networks.\n",
    "\n",
    "We will start with a single neuron and then move on to a simple neural network.\n",
    "\n",
    "\n",
    "\n"
   ]
  },
  {
   "cell_type": "code",
   "execution_count": 2,
   "metadata": {},
   "outputs": [
    {
     "name": "stdout",
     "output_type": "stream",
     "text": [
      "model=Model(\n",
      "  (linear): Linear(in_features=1, out_features=1, bias=True)\n",
      ")\n",
      "model(torch.tensor([0.0]))=tensor([0.5364], grad_fn=<ViewBackward0>)\n"
     ]
    }
   ],
   "source": [
    "import torch\n",
    "\n",
    "torch.manual_seed(0)\n",
    "\n",
    "\n",
    "class Model(torch.nn.Module):\n",
    "    def __init__(self):\n",
    "        super().__init__()\n",
    "        self.linear = torch.nn.Linear(1, 1)\n",
    "\n",
    "    def forward(self, x):\n",
    "        # Pass through the linear layer (single neuron)\n",
    "        return self.linear(x)\n",
    "\n",
    "\n",
    "# Create an instance of the model\n",
    "model = Model()\n",
    "print(f\"{model=}\")\n",
    "# Now call the model instance with the input\n",
    "print(f\"{model(torch.tensor([0.0]))=}\")\n"
   ]
  },
  {
   "cell_type": "markdown",
   "metadata": {},
   "source": [
    "The output of the model for the input of 0.0 is a tensor with a single value that is the result of a random initialization of the weights and biases.\n",
    "\n",
    "By default, autograd is tracking the operations that are performed on the model.\n",
    "`grad_fn=<ViewBackward0>` tells us that the last operation to create this output was a view operation. Without the view operation the output would have been [[0.5364]] rather than [0.5364]. The `Backward` means that during backgpropagation the Backward function will be called. The `0` suffix means that this will be the first backward call.\n",
    "\n",
    "\n",
    "\n",
    "\n",
    "\n"
   ]
  },
  {
   "cell_type": "code",
   "execution_count": null,
   "metadata": {},
   "outputs": [
    {
     "name": "stdout",
     "output_type": "stream",
     "text": [
      "Initial prediction: 0.5364435911178589\n",
      "Loss: 0.21488454937934875\n",
      "Parameter: linear.weight, Gradient: tensor([[0.]])\n",
      "Parameter: linear.bias, Gradient: tensor([-0.9271])\n"
     ]
    }
   ],
   "source": [
    "# Let's create a simple training example\n",
    "\n",
    "# input\n",
    "x = torch.tensor([[0.0]])\n",
    "# target output\n",
    "y = torch.tensor([[1.0]])\n",
    "\n",
    "criterion = torch.nn.MSELoss()\n",
    "\n",
    "# Forward pass\n",
    "output = model(x)\n",
    "loss = criterion(output, y)\n",
    "print(f\"Initial prediction: {output.item()}\")\n",
    "print(f\"Loss: {loss.item()}\")\n",
    "\n",
    "# Backward pass\n",
    "loss.backward()  # This computes gradients for all model parameters\n",
    "\n",
    "# Print gradients\n",
    "for name, param in model.named_parameters():\n",
    "    print(f\"Parameter: {name}, Gradient: {param.grad}\")\n"
   ]
  },
  {
   "cell_type": "code",
   "execution_count": null,
   "metadata": {},
   "outputs": [],
   "source": []
  }
 ],
 "metadata": {
  "kernelspec": {
   "display_name": ".venv",
   "language": "python",
   "name": "python3"
  },
  "language_info": {
   "codemirror_mode": {
    "name": "ipython",
    "version": 3
   },
   "file_extension": ".py",
   "mimetype": "text/x-python",
   "name": "python",
   "nbconvert_exporter": "python",
   "pygments_lexer": "ipython3",
   "version": "3.9.6"
  }
 },
 "nbformat": 4,
 "nbformat_minor": 2
}
